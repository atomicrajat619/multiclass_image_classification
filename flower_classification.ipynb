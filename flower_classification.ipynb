{
 "cells": [
  {
   "cell_type": "code",
   "execution_count": 53,
   "metadata": {},
   "outputs": [],
   "source": [
    "from tensorflow import keras\n",
    "from tensorflow.keras.models import Sequential\n",
    "from tensorflow.keras.layers import Dense, Dropout, Flatten\n",
    "from tensorflow.keras.layers import Conv2D, MaxPooling2D,BatchNormalization, MaxPool2D\n",
    "from tensorflow.keras.models import Model\n",
    "from tensorflow.keras import applications\n",
    "import tensorflow as tf\n",
    "from tqdm import tqdm\n",
    "import cv2\n",
    "import numpy as np\n",
    "from sklearn.model_selection import train_test_split\n",
    "from tensorflow.keras.utils import to_categorical\n",
    "from tensorflow.keras.optimizers import Adam,SGD,Adagrad,Adadelta,RMSprop\n",
    "from tensorflow.keras.preprocessing.image import ImageDataGenerator\n",
    "from tensorflow.keras.callbacks import EarlyStopping\n",
    "import random\n",
    "from shutil import copyfile\n",
    "import os\n",
    "import gc\n",
    "from tensorflow.keras.wrappers.scikit_learn import KerasClassifier\n",
    "from sklearn.model_selection import StratifiedShuffleSplit\n",
    "from sklearn.model_selection import GridSearchCV, RandomizedSearchCV\n",
    "from tensorflow.keras import backend as K\n",
    "from tensorflow.keras.preprocessing.image import ImageDataGenerator"
   ]
  },
  {
   "cell_type": "code",
   "execution_count": 41,
   "metadata": {},
   "outputs": [],
   "source": [
    "#creating train image generator\n",
    "train = ImageDataGenerator(\n",
    "    rescale=1./255,\n",
    "    rotation_range=5,\n",
    "    zoom_range=(0.95,0.95),\n",
    "    horizontal_flip=True,\n",
    "    vertical_flip=False,\n",
    "    dtype=tf.float32,\n",
    ")\n",
    "#creating validation image generator\n",
    "valid = ImageDataGenerator(\n",
    "    rescale=1./255,\n",
    "    rotation_range=5,\n",
    "    zoom_range=(0.95,0.95),\n",
    "    horizontal_flip=True,\n",
    "    vertical_flip=False,\n",
    "    dtype=tf.float32,\n",
    ")"
   ]
  },
  {
   "cell_type": "code",
   "execution_count": 42,
   "metadata": {},
   "outputs": [
    {
     "name": "stdout",
     "output_type": "stream",
     "text": [
      "Found 12753 images belonging to 104 classes.\n",
      "Found 3712 images belonging to 104 classes.\n"
     ]
    }
   ],
   "source": [
    "#Loading train image dataset\n",
    "train_data = train.flow_from_directory(\n",
    "    './dataset/train/',\n",
    "    target_size = (224,224),\n",
    "    batch_size = 32,\n",
    "    class_mode = 'categorical',\n",
    "    seed = 619\n",
    ")\n",
    "\n",
    "#Loading validation image dataset\n",
    "valid_data = train.flow_from_directory(\n",
    "    './dataset/val/',\n",
    "    target_size = (224,224),\n",
    "    batch_size = 32,\n",
    "    class_mode = 'categorical',\n",
    "    seed = 619\n",
    ")"
   ]
  },
  {
   "cell_type": "code",
   "execution_count": 43,
   "metadata": {},
   "outputs": [
    {
     "data": {
      "text/plain": [
       "{'alpine sea holly': 0,\n",
       " 'anthurium': 1,\n",
       " 'artichoke': 2,\n",
       " 'azalea': 3,\n",
       " 'balloon flower': 4,\n",
       " 'barberton daisy': 5,\n",
       " 'bee balm': 6,\n",
       " 'bird of paradise': 7,\n",
       " 'bishop of llandaff': 8,\n",
       " 'black-eyed susan': 9,\n",
       " 'blackberry lily': 10,\n",
       " 'blanket flower': 11,\n",
       " 'bolero deep blue': 12,\n",
       " 'bougainvillea': 13,\n",
       " 'bromelia': 14,\n",
       " 'buttercup': 15,\n",
       " 'californian poppy': 16,\n",
       " 'camellia': 17,\n",
       " 'canna lily': 18,\n",
       " 'canterbury bells': 19,\n",
       " 'cape flower': 20,\n",
       " 'carnation': 21,\n",
       " 'cautleya spicata': 22,\n",
       " 'clematis': 23,\n",
       " \"colt's foot\": 24,\n",
       " 'columbine': 25,\n",
       " 'common dandelion': 26,\n",
       " 'common tulip': 27,\n",
       " 'corn poppy': 28,\n",
       " 'cosmos': 29,\n",
       " 'cyclamen ': 30,\n",
       " 'daffodil': 31,\n",
       " 'daisy': 32,\n",
       " 'desert-rose': 33,\n",
       " 'fire lily': 34,\n",
       " 'foxglove': 35,\n",
       " 'frangipani': 36,\n",
       " 'fritillary': 37,\n",
       " 'garden phlox': 38,\n",
       " 'gaura': 39,\n",
       " 'gazania': 40,\n",
       " 'geranium': 41,\n",
       " 'giant white arum lily': 42,\n",
       " 'globe thistle': 43,\n",
       " 'globe-flower': 44,\n",
       " 'grape hyacinth': 45,\n",
       " 'great masterwort': 46,\n",
       " 'hard-leaved pocket orchid': 47,\n",
       " 'hibiscus': 48,\n",
       " 'hippeastrum ': 49,\n",
       " 'iris': 50,\n",
       " 'japanese anemone': 51,\n",
       " 'king protea': 52,\n",
       " 'lenten rose': 53,\n",
       " 'lilac hibiscus': 54,\n",
       " 'lotus': 55,\n",
       " 'love in the mist': 56,\n",
       " 'magnolia': 57,\n",
       " 'mallow': 58,\n",
       " 'marigold': 59,\n",
       " 'mexican petunia': 60,\n",
       " 'monkshood': 61,\n",
       " 'moon orchid': 62,\n",
       " 'morning glory': 63,\n",
       " 'orange dahlia': 64,\n",
       " 'osteospermum': 65,\n",
       " 'passion flower': 66,\n",
       " 'peruvian lily': 67,\n",
       " 'petunia': 68,\n",
       " 'pincushion flower': 69,\n",
       " 'pink primrose': 70,\n",
       " 'pink quill': 71,\n",
       " 'pink-yellow dahlia': 72,\n",
       " 'poinsettia': 73,\n",
       " 'primula': 74,\n",
       " 'prince of wales feathers': 75,\n",
       " 'purple coneflower': 76,\n",
       " 'red ginger': 77,\n",
       " 'rose': 78,\n",
       " 'ruby-lipped cattleya': 79,\n",
       " 'siam tulip': 80,\n",
       " 'silverbush': 81,\n",
       " 'snapdragon': 82,\n",
       " 'spear thistle': 83,\n",
       " 'spring crocus': 84,\n",
       " 'stemless gentian': 85,\n",
       " 'sunflower': 86,\n",
       " 'sweet pea': 87,\n",
       " 'sweet william': 88,\n",
       " 'sword lily': 89,\n",
       " 'thorn apple': 90,\n",
       " 'tiger lily': 91,\n",
       " 'toad lily': 92,\n",
       " 'tree mallow': 93,\n",
       " 'tree poppy': 94,\n",
       " 'trumpet creeper': 95,\n",
       " 'wallflower': 96,\n",
       " 'water lily': 97,\n",
       " 'watercress': 98,\n",
       " 'wild geranium': 99,\n",
       " 'wild pansy': 100,\n",
       " 'wild rose': 101,\n",
       " 'windflower': 102,\n",
       " 'yellow iris': 103}"
      ]
     },
     "execution_count": 43,
     "metadata": {},
     "output_type": "execute_result"
    }
   ],
   "source": [
    "#checking class indices\n",
    "train_data.class_indices"
   ]
  },
  {
   "cell_type": "code",
   "execution_count": 44,
   "metadata": {},
   "outputs": [],
   "source": [
    "#specifing image dimensions\n",
    "width,height = 224,224"
   ]
  },
  {
   "cell_type": "code",
   "execution_count": 45,
   "metadata": {},
   "outputs": [],
   "source": [
    "#Transfer learning using VGG16 imagenet model\n",
    "#Loading VGG16 model without top layer with custom input size\n",
    "base_model = applications.VGG16(weights='imagenet', include_top=False,input_shape=(width,height,3))\n"
   ]
  },
  {
   "cell_type": "code",
   "execution_count": 46,
   "metadata": {},
   "outputs": [
    {
     "name": "stdout",
     "output_type": "stream",
     "text": [
      "Model: \"vgg16\"\n",
      "_________________________________________________________________\n",
      "Layer (type)                 Output Shape              Param #   \n",
      "=================================================================\n",
      "input_4 (InputLayer)         [(None, 224, 224, 3)]     0         \n",
      "_________________________________________________________________\n",
      "block1_conv1 (Conv2D)        (None, 224, 224, 64)      1792      \n",
      "_________________________________________________________________\n",
      "block1_conv2 (Conv2D)        (None, 224, 224, 64)      36928     \n",
      "_________________________________________________________________\n",
      "block1_pool (MaxPooling2D)   (None, 112, 112, 64)      0         \n",
      "_________________________________________________________________\n",
      "block2_conv1 (Conv2D)        (None, 112, 112, 128)     73856     \n",
      "_________________________________________________________________\n",
      "block2_conv2 (Conv2D)        (None, 112, 112, 128)     147584    \n",
      "_________________________________________________________________\n",
      "block2_pool (MaxPooling2D)   (None, 56, 56, 128)       0         \n",
      "_________________________________________________________________\n",
      "block3_conv1 (Conv2D)        (None, 56, 56, 256)       295168    \n",
      "_________________________________________________________________\n",
      "block3_conv2 (Conv2D)        (None, 56, 56, 256)       590080    \n",
      "_________________________________________________________________\n",
      "block3_conv3 (Conv2D)        (None, 56, 56, 256)       590080    \n",
      "_________________________________________________________________\n",
      "block3_pool (MaxPooling2D)   (None, 28, 28, 256)       0         \n",
      "_________________________________________________________________\n",
      "block4_conv1 (Conv2D)        (None, 28, 28, 512)       1180160   \n",
      "_________________________________________________________________\n",
      "block4_conv2 (Conv2D)        (None, 28, 28, 512)       2359808   \n",
      "_________________________________________________________________\n",
      "block4_conv3 (Conv2D)        (None, 28, 28, 512)       2359808   \n",
      "_________________________________________________________________\n",
      "block4_pool (MaxPooling2D)   (None, 14, 14, 512)       0         \n",
      "_________________________________________________________________\n",
      "block5_conv1 (Conv2D)        (None, 14, 14, 512)       2359808   \n",
      "_________________________________________________________________\n",
      "block5_conv2 (Conv2D)        (None, 14, 14, 512)       2359808   \n",
      "_________________________________________________________________\n",
      "block5_conv3 (Conv2D)        (None, 14, 14, 512)       2359808   \n",
      "_________________________________________________________________\n",
      "block5_pool (MaxPooling2D)   (None, 7, 7, 512)         0         \n",
      "=================================================================\n",
      "Total params: 14,714,688\n",
      "Trainable params: 14,714,688\n",
      "Non-trainable params: 0\n",
      "_________________________________________________________________\n"
     ]
    }
   ],
   "source": [
    "base_model.summary()"
   ]
  },
  {
   "cell_type": "code",
   "execution_count": 47,
   "metadata": {},
   "outputs": [],
   "source": [
    "#freezing trainable parameters of base model\n",
    "base_model.trainable=False"
   ]
  },
  {
   "cell_type": "code",
   "execution_count": 48,
   "metadata": {},
   "outputs": [],
   "source": [
    "#Adding new layers to base model\n",
    "inputs = keras.Input(shape=(224, 224, 3))\n",
    "# Separately from setting trainable on the model, we set training to False \n",
    "x = base_model(inputs, training=False)\n",
    "x = keras.layers.GlobalAveragePooling2D()(x)\n",
    "# A Dense classifier with a 104 unit (categorical classification)\n",
    "outputs = keras.layers.Dense(104)(x)\n",
    "model = keras.Model(inputs, outputs)"
   ]
  },
  {
   "cell_type": "code",
   "execution_count": 49,
   "metadata": {},
   "outputs": [],
   "source": [
    "#compiling the model\n",
    "model.compile(loss=keras.losses.categorical_crossentropy,metrics=keras.metrics.categorical_accuracy)"
   ]
  },
  {
   "cell_type": "code",
   "execution_count": 56,
   "metadata": {},
   "outputs": [
    {
     "name": "stdout",
     "output_type": "stream",
     "text": [
      "Epoch 1/20\n",
      "24/24 [==============================] - 9s 389ms/step - loss: 9.1133 - categorical_accuracy: 0.0495 - val_loss: 8.0320 - val_categorical_accuracy: 0.0352\n",
      "Epoch 2/20\n",
      "24/24 [==============================] - 9s 388ms/step - loss: 9.1843 - categorical_accuracy: 0.0638 - val_loss: 10.4783 - val_categorical_accuracy: 0.0547\n",
      "Epoch 3/20\n",
      "24/24 [==============================] - 9s 386ms/step - loss: 9.3667 - categorical_accuracy: 0.0521 - val_loss: 10.6711 - val_categorical_accuracy: 0.0352\n",
      "Epoch 4/20\n",
      "24/24 [==============================] - 9s 384ms/step - loss: 9.0090 - categorical_accuracy: 0.0482 - val_loss: 10.2562 - val_categorical_accuracy: 0.0664\n",
      "Epoch 5/20\n",
      "24/24 [==============================] - 9s 396ms/step - loss: 9.0147 - categorical_accuracy: 0.0430 - val_loss: 9.9052 - val_categorical_accuracy: 0.0625\n",
      "Epoch 6/20\n",
      "24/24 [==============================] - 9s 390ms/step - loss: 9.4509 - categorical_accuracy: 0.0612 - val_loss: 9.3146 - val_categorical_accuracy: 0.0547\n",
      "Epoch 7/20\n",
      "24/24 [==============================] - 9s 392ms/step - loss: 9.4969 - categorical_accuracy: 0.0508 - val_loss: 10.2117 - val_categorical_accuracy: 0.0547\n",
      "Epoch 8/20\n",
      "24/24 [==============================] - 9s 387ms/step - loss: 9.4368 - categorical_accuracy: 0.0521 - val_loss: 10.0958 - val_categorical_accuracy: 0.0469\n",
      "Epoch 9/20\n",
      "24/24 [==============================] - 9s 393ms/step - loss: 9.5947 - categorical_accuracy: 0.0391 - val_loss: 6.9497 - val_categorical_accuracy: 0.0625\n",
      "Epoch 10/20\n",
      "24/24 [==============================] - 9s 387ms/step - loss: 8.8916 - categorical_accuracy: 0.0508 - val_loss: 9.5664 - val_categorical_accuracy: 0.0430\n",
      "Epoch 11/20\n",
      "24/24 [==============================] - 9s 386ms/step - loss: 9.1135 - categorical_accuracy: 0.0547 - val_loss: 10.5241 - val_categorical_accuracy: 0.0625\n",
      "Epoch 12/20\n",
      "24/24 [==============================] - 9s 390ms/step - loss: 8.4603 - categorical_accuracy: 0.0469 - val_loss: 6.7221 - val_categorical_accuracy: 0.0391\n",
      "Epoch 13/20\n",
      "24/24 [==============================] - 9s 385ms/step - loss: 9.2478 - categorical_accuracy: 0.0339 - val_loss: 9.2678 - val_categorical_accuracy: 0.0586\n",
      "Epoch 14/20\n",
      "24/24 [==============================] - 9s 381ms/step - loss: 9.0267 - categorical_accuracy: 0.0637 - val_loss: 7.5979 - val_categorical_accuracy: 0.0352\n",
      "Epoch 15/20\n",
      "24/24 [==============================] - 9s 390ms/step - loss: 9.1913 - categorical_accuracy: 0.0482 - val_loss: 7.0444 - val_categorical_accuracy: 0.0312\n",
      "Epoch 16/20\n",
      "24/24 [==============================] - 9s 389ms/step - loss: 9.3046 - categorical_accuracy: 0.0521 - val_loss: 6.6438 - val_categorical_accuracy: 0.0391\n",
      "Epoch 17/20\n",
      "24/24 [==============================] - 9s 386ms/step - loss: 9.6202 - categorical_accuracy: 0.0534 - val_loss: 7.4731 - val_categorical_accuracy: 0.0508\n",
      "Epoch 18/20\n",
      "24/24 [==============================] - 9s 388ms/step - loss: 8.7954 - categorical_accuracy: 0.0417 - val_loss: 8.9437 - val_categorical_accuracy: 0.0938\n",
      "Epoch 19/20\n",
      "24/24 [==============================] - 9s 387ms/step - loss: 9.4430 - categorical_accuracy: 0.0625 - val_loss: 9.7216 - val_categorical_accuracy: 0.0781\n",
      "Epoch 20/20\n",
      "24/24 [==============================] - 9s 393ms/step - loss: 9.7548 - categorical_accuracy: 0.0586 - val_loss: 6.4498 - val_categorical_accuracy: 0.0586\n"
     ]
    },
    {
     "data": {
      "text/plain": [
       "<tensorflow.python.keras.callbacks.History at 0x7fa1603df0b8>"
      ]
     },
     "execution_count": 56,
     "metadata": {},
     "output_type": "execute_result"
    }
   ],
   "source": [
    "#fitting the model \n",
    "model.fit(train_data,batch_size=32,steps_per_epoch=24,validation_data=valid_data,validation_steps=8,epochs=20)"
   ]
  },
  {
   "cell_type": "code",
   "execution_count": 54,
   "metadata": {},
   "outputs": [],
   "source": [
    "#custom model \n",
    "num_classes = 104\n",
    "custom_model = Sequential()\n",
    "custom_model.add(Conv2D(75, (3, 3), strides=1, padding=\"same\", activation=\"relu\", \n",
    "                 input_shape=(224, 224, 3)))\n",
    "custom_model.add(BatchNormalization())\n",
    "custom_model.add(MaxPool2D((2, 2), strides=2, padding=\"same\"))\n",
    "custom_model.add(Conv2D(50, (3, 3), strides=1, padding=\"same\", activation=\"relu\"))\n",
    "custom_model.add(Dropout(0.2))\n",
    "custom_model.add(BatchNormalization())\n",
    "custom_model.add(MaxPool2D((2, 2), strides=2, padding=\"same\"))\n",
    "custom_model.add(Conv2D(25, (3, 3), strides=1, padding=\"same\", activation=\"relu\"))\n",
    "custom_model.add(BatchNormalization())\n",
    "custom_model.add(MaxPool2D((2, 2), strides=2, padding=\"same\"))\n",
    "custom_model.add(Flatten())\n",
    "custom_model.add(Dense(units=512, activation=\"relu\"))\n",
    "custom_model.add(Dropout(0.3))\n",
    "custom_model.add(Dense(units=num_classes, activation=\"softmax\"))"
   ]
  },
  {
   "cell_type": "code",
   "execution_count": 55,
   "metadata": {},
   "outputs": [
    {
     "name": "stdout",
     "output_type": "stream",
     "text": [
      "Model: \"sequential_1\"\n",
      "_________________________________________________________________\n",
      "Layer (type)                 Output Shape              Param #   \n",
      "=================================================================\n",
      "conv2d_1 (Conv2D)            (None, 224, 224, 75)      2100      \n",
      "_________________________________________________________________\n",
      "batch_normalization_1 (Batch (None, 224, 224, 75)      300       \n",
      "_________________________________________________________________\n",
      "max_pooling2d (MaxPooling2D) (None, 112, 112, 75)      0         \n",
      "_________________________________________________________________\n",
      "conv2d_2 (Conv2D)            (None, 112, 112, 50)      33800     \n",
      "_________________________________________________________________\n",
      "dropout (Dropout)            (None, 112, 112, 50)      0         \n",
      "_________________________________________________________________\n",
      "batch_normalization_2 (Batch (None, 112, 112, 50)      200       \n",
      "_________________________________________________________________\n",
      "max_pooling2d_1 (MaxPooling2 (None, 56, 56, 50)        0         \n",
      "_________________________________________________________________\n",
      "conv2d_3 (Conv2D)            (None, 56, 56, 25)        11275     \n",
      "_________________________________________________________________\n",
      "batch_normalization_3 (Batch (None, 56, 56, 25)        100       \n",
      "_________________________________________________________________\n",
      "max_pooling2d_2 (MaxPooling2 (None, 28, 28, 25)        0         \n",
      "_________________________________________________________________\n",
      "flatten (Flatten)            (None, 19600)             0         \n",
      "_________________________________________________________________\n",
      "dense_2 (Dense)              (None, 512)               10035712  \n",
      "_________________________________________________________________\n",
      "dropout_1 (Dropout)          (None, 512)               0         \n",
      "_________________________________________________________________\n",
      "dense_3 (Dense)              (None, 104)               53352     \n",
      "=================================================================\n",
      "Total params: 10,136,839\n",
      "Trainable params: 10,136,539\n",
      "Non-trainable params: 300\n",
      "_________________________________________________________________\n"
     ]
    }
   ],
   "source": [
    "custom_model.summary()"
   ]
  },
  {
   "cell_type": "code",
   "execution_count": 57,
   "metadata": {},
   "outputs": [],
   "source": [
    "custom_model.compile(loss=\"categorical_crossentropy\", metrics=[\"accuracy\"])"
   ]
  },
  {
   "cell_type": "code",
   "execution_count": 60,
   "metadata": {},
   "outputs": [
    {
     "name": "stdout",
     "output_type": "stream",
     "text": [
      "Epoch 1/50\n",
      "400/400 [==============================] - 153s 382ms/step - loss: 3.8725 - accuracy: 0.1333 - val_loss: 4.1342 - val_accuracy: 0.1026\n",
      "Epoch 2/50\n",
      "400/400 [==============================] - 156s 389ms/step - loss: 3.7515 - accuracy: 0.1539 - val_loss: 3.6618 - val_accuracy: 0.1698\n",
      "Epoch 3/50\n",
      "400/400 [==============================] - 154s 384ms/step - loss: 3.7036 - accuracy: 0.1661 - val_loss: 4.0406 - val_accuracy: 0.1648\n",
      "Epoch 4/50\n",
      "400/400 [==============================] - 152s 380ms/step - loss: 3.6103 - accuracy: 0.1786 - val_loss: 3.4144 - val_accuracy: 0.2005\n",
      "Epoch 5/50\n",
      "400/400 [==============================] - 152s 381ms/step - loss: 3.5346 - accuracy: 0.1903 - val_loss: 4.0714 - val_accuracy: 0.1641\n",
      "Epoch 6/50\n",
      "400/400 [==============================] - 153s 383ms/step - loss: 3.5129 - accuracy: 0.1885 - val_loss: 3.3667 - val_accuracy: 0.1956\n",
      "Epoch 7/50\n",
      "400/400 [==============================] - 153s 383ms/step - loss: 3.4109 - accuracy: 0.2145 - val_loss: 3.3960 - val_accuracy: 0.2198\n",
      "Epoch 8/50\n",
      "400/400 [==============================] - 153s 383ms/step - loss: 3.3555 - accuracy: 0.2159 - val_loss: 3.2327 - val_accuracy: 0.2333\n",
      "Epoch 9/50\n",
      "400/400 [==============================] - 153s 383ms/step - loss: 3.3047 - accuracy: 0.2292 - val_loss: 3.2750 - val_accuracy: 0.2482\n",
      "Epoch 10/50\n",
      "400/400 [==============================] - 153s 382ms/step - loss: 3.2221 - accuracy: 0.2419 - val_loss: 3.3750 - val_accuracy: 0.2057\n",
      "Epoch 11/50\n",
      "400/400 [==============================] - 154s 384ms/step - loss: 3.1330 - accuracy: 0.2514 - val_loss: 3.0560 - val_accuracy: 0.2643\n",
      "Epoch 12/50\n",
      "400/400 [==============================] - 154s 384ms/step - loss: 3.0277 - accuracy: 0.2724 - val_loss: 3.0750 - val_accuracy: 0.2698\n",
      "Epoch 13/50\n",
      "400/400 [==============================] - 153s 382ms/step - loss: 2.9465 - accuracy: 0.2854 - val_loss: 3.0680 - val_accuracy: 0.2604\n",
      "Epoch 14/50\n",
      "400/400 [==============================] - 155s 388ms/step - loss: 2.8503 - accuracy: 0.3083 - val_loss: 3.0664 - val_accuracy: 0.2865\n",
      "Epoch 15/50\n",
      "400/400 [==============================] - 154s 385ms/step - loss: 2.7143 - accuracy: 0.3276 - val_loss: 3.0613 - val_accuracy: 0.2716\n",
      "Epoch 16/50\n",
      "400/400 [==============================] - 154s 385ms/step - loss: 2.5937 - accuracy: 0.3575 - val_loss: 2.9109 - val_accuracy: 0.3049\n",
      "Epoch 17/50\n",
      "400/400 [==============================] - 154s 384ms/step - loss: 2.5177 - accuracy: 0.3646 - val_loss: 2.8118 - val_accuracy: 0.3065\n",
      "Epoch 18/50\n",
      "400/400 [==============================] - 153s 383ms/step - loss: 2.4106 - accuracy: 0.3921 - val_loss: 3.0457 - val_accuracy: 0.2688\n",
      "Epoch 19/50\n",
      "400/400 [==============================] - 154s 385ms/step - loss: 2.2881 - accuracy: 0.4113 - val_loss: 2.8449 - val_accuracy: 0.2888\n",
      "Epoch 20/50\n",
      "400/400 [==============================] - 153s 383ms/step - loss: 2.1746 - accuracy: 0.4390 - val_loss: 2.7280 - val_accuracy: 0.3500\n",
      "Epoch 21/50\n",
      "400/400 [==============================] - 153s 383ms/step - loss: 2.0558 - accuracy: 0.4645 - val_loss: 3.1874 - val_accuracy: 0.3039\n",
      "Epoch 22/50\n",
      "400/400 [==============================] - 154s 385ms/step - loss: 1.9683 - accuracy: 0.4871 - val_loss: 2.5963 - val_accuracy: 0.3607\n",
      "Epoch 23/50\n",
      "400/400 [==============================] - 154s 385ms/step - loss: 1.8540 - accuracy: 0.5093 - val_loss: 2.4865 - val_accuracy: 0.3807\n",
      "Epoch 24/50\n",
      "400/400 [==============================] - 154s 385ms/step - loss: 1.7419 - accuracy: 0.5364 - val_loss: 2.7728 - val_accuracy: 0.3307\n",
      "Epoch 25/50\n",
      "400/400 [==============================] - 154s 384ms/step - loss: 1.6151 - accuracy: 0.5674 - val_loss: 2.5593 - val_accuracy: 0.3516\n",
      "Epoch 26/50\n",
      "400/400 [==============================] - 154s 385ms/step - loss: 1.5150 - accuracy: 0.5929 - val_loss: 2.6673 - val_accuracy: 0.3737\n",
      "Epoch 27/50\n",
      "400/400 [==============================] - 154s 384ms/step - loss: 1.4275 - accuracy: 0.6171 - val_loss: 2.5129 - val_accuracy: 0.3581\n",
      "Epoch 28/50\n",
      "400/400 [==============================] - 154s 385ms/step - loss: 1.3006 - accuracy: 0.6471 - val_loss: 2.6576 - val_accuracy: 0.3482\n",
      "Epoch 29/50\n",
      "400/400 [==============================] - 154s 384ms/step - loss: 1.2397 - accuracy: 0.6671 - val_loss: 3.0033 - val_accuracy: 0.3023\n",
      "Epoch 30/50\n",
      "400/400 [==============================] - 154s 385ms/step - loss: 1.1585 - accuracy: 0.6841 - val_loss: 2.6343 - val_accuracy: 0.3617\n",
      "Epoch 31/50\n",
      "400/400 [==============================] - 154s 385ms/step - loss: 1.0846 - accuracy: 0.7002 - val_loss: 2.6060 - val_accuracy: 0.3799\n",
      "Epoch 32/50\n",
      "400/400 [==============================] - 154s 385ms/step - loss: 1.0088 - accuracy: 0.7226 - val_loss: 2.6946 - val_accuracy: 0.3422\n",
      "Epoch 33/50\n",
      "400/400 [==============================] - 154s 384ms/step - loss: 0.9521 - accuracy: 0.7368 - val_loss: 2.8441 - val_accuracy: 0.3651\n",
      "Epoch 34/50\n",
      "400/400 [==============================] - 154s 384ms/step - loss: 0.8740 - accuracy: 0.7531 - val_loss: 2.8154 - val_accuracy: 0.3495\n",
      "Epoch 35/50\n",
      "400/400 [==============================] - 154s 385ms/step - loss: 0.8487 - accuracy: 0.7633 - val_loss: 2.7080 - val_accuracy: 0.3557\n",
      "Epoch 36/50\n",
      "400/400 [==============================] - 153s 382ms/step - loss: 0.7866 - accuracy: 0.7804 - val_loss: 2.6874 - val_accuracy: 0.3815\n",
      "Epoch 37/50\n",
      "400/400 [==============================] - 153s 382ms/step - loss: 0.7380 - accuracy: 0.7945 - val_loss: 2.7632 - val_accuracy: 0.3602\n",
      "Epoch 38/50\n",
      "400/400 [==============================] - 154s 384ms/step - loss: 0.6815 - accuracy: 0.8067 - val_loss: 2.6842 - val_accuracy: 0.3562\n",
      "Epoch 39/50\n",
      "400/400 [==============================] - 153s 384ms/step - loss: 0.6466 - accuracy: 0.8185 - val_loss: 2.7840 - val_accuracy: 0.3367\n",
      "Epoch 40/50\n",
      "400/400 [==============================] - 154s 385ms/step - loss: 0.6105 - accuracy: 0.8269 - val_loss: 2.9759 - val_accuracy: 0.3115\n",
      "Epoch 41/50\n",
      "400/400 [==============================] - 154s 385ms/step - loss: 0.5834 - accuracy: 0.8334 - val_loss: 2.8906 - val_accuracy: 0.3758\n",
      "Epoch 42/50\n",
      "400/400 [==============================] - 153s 382ms/step - loss: 0.5636 - accuracy: 0.8422 - val_loss: 2.8535 - val_accuracy: 0.3664\n",
      "Epoch 43/50\n",
      "400/400 [==============================] - 153s 382ms/step - loss: 0.5364 - accuracy: 0.8479 - val_loss: 3.1636 - val_accuracy: 0.3409\n",
      "Epoch 44/50\n",
      "400/400 [==============================] - 153s 383ms/step - loss: 0.4948 - accuracy: 0.8611 - val_loss: 3.1190 - val_accuracy: 0.3906\n",
      "Epoch 45/50\n",
      "400/400 [==============================] - 153s 382ms/step - loss: 0.4930 - accuracy: 0.8595 - val_loss: 3.2056 - val_accuracy: 0.3357\n",
      "Epoch 46/50\n",
      "400/400 [==============================] - 154s 385ms/step - loss: 0.4722 - accuracy: 0.8665 - val_loss: 3.0985 - val_accuracy: 0.3615\n",
      "Epoch 47/50\n",
      "400/400 [==============================] - 154s 385ms/step - loss: 0.4574 - accuracy: 0.8681 - val_loss: 2.9941 - val_accuracy: 0.3466\n",
      "Epoch 48/50\n",
      "400/400 [==============================] - 154s 384ms/step - loss: 0.4402 - accuracy: 0.8730 - val_loss: 3.0797 - val_accuracy: 0.3570\n",
      "Epoch 49/50\n",
      "400/400 [==============================] - 154s 385ms/step - loss: 0.4077 - accuracy: 0.8798 - val_loss: 3.5585 - val_accuracy: 0.3294\n",
      "Epoch 50/50\n",
      "400/400 [==============================] - 154s 385ms/step - loss: 0.3831 - accuracy: 0.8917 - val_loss: 3.3070 - val_accuracy: 0.3237\n"
     ]
    },
    {
     "data": {
      "text/plain": [
       "<tensorflow.python.keras.callbacks.History at 0x7fa1483ed128>"
      ]
     },
     "execution_count": 60,
     "metadata": {},
     "output_type": "execute_result"
    }
   ],
   "source": [
    "history = custom_model.fit(train_data,batch_size=32,steps_per_epoch=400,validation_data=valid_data,validation_steps=120,epochs=50)"
   ]
  },
  {
   "cell_type": "code",
   "execution_count": 61,
   "metadata": {},
   "outputs": [
    {
     "name": "stdout",
     "output_type": "stream",
     "text": [
      "WARNING:tensorflow:From /usr/local/lib/python3.6/dist-packages/tensorflow/python/ops/resource_variable_ops.py:1817: calling BaseResourceVariable.__init__ (from tensorflow.python.ops.resource_variable_ops) with constraint is deprecated and will be removed in a future version.\n",
      "Instructions for updating:\n",
      "If using Keras pass *_constraint arguments to layers.\n",
      "INFO:tensorflow:Assets written to: flower_classifer/assets\n"
     ]
    }
   ],
   "source": [
    "custom_model.save('flower_classifer')"
   ]
  },
  {
   "cell_type": "code",
   "execution_count": 64,
   "metadata": {},
   "outputs": [
    {
     "ename": "NameError",
     "evalue": "name 'history' is not defined",
     "output_type": "error",
     "traceback": [
      "\u001b[0;31m---------------------------------------------------------------------------\u001b[0m",
      "\u001b[0;31mNameError\u001b[0m                                 Traceback (most recent call last)",
      "\u001b[0;32m<ipython-input-64-19f1ab356db6>\u001b[0m in \u001b[0;36m<module>\u001b[0;34m\u001b[0m\n\u001b[0;32m----> 1\u001b[0;31m \u001b[0macc\u001b[0m \u001b[0;34m=\u001b[0m \u001b[0mhistory\u001b[0m\u001b[0;34m.\u001b[0m\u001b[0mhistory\u001b[0m\u001b[0;34m[\u001b[0m\u001b[0;34m'accuracy'\u001b[0m\u001b[0;34m]\u001b[0m\u001b[0;34m\u001b[0m\u001b[0;34m\u001b[0m\u001b[0m\n\u001b[0m\u001b[1;32m      2\u001b[0m \u001b[0mval_acc\u001b[0m \u001b[0;34m=\u001b[0m \u001b[0mhistory\u001b[0m\u001b[0;34m.\u001b[0m\u001b[0mhistory\u001b[0m\u001b[0;34m[\u001b[0m\u001b[0;34m'val_accuracy'\u001b[0m\u001b[0;34m]\u001b[0m\u001b[0;34m\u001b[0m\u001b[0;34m\u001b[0m\u001b[0m\n\u001b[1;32m      3\u001b[0m \u001b[0mloss\u001b[0m \u001b[0;34m=\u001b[0m \u001b[0mhistory\u001b[0m\u001b[0;34m.\u001b[0m\u001b[0mhistory\u001b[0m\u001b[0;34m[\u001b[0m\u001b[0;34m'loss'\u001b[0m\u001b[0;34m]\u001b[0m\u001b[0;34m\u001b[0m\u001b[0;34m\u001b[0m\u001b[0m\n\u001b[1;32m      4\u001b[0m \u001b[0mval_loss\u001b[0m \u001b[0;34m=\u001b[0m \u001b[0mhistory\u001b[0m\u001b[0;34m.\u001b[0m\u001b[0mhistory\u001b[0m\u001b[0;34m[\u001b[0m\u001b[0;34m'val_loss'\u001b[0m\u001b[0;34m]\u001b[0m\u001b[0;34m\u001b[0m\u001b[0;34m\u001b[0m\u001b[0m\n\u001b[1;32m      5\u001b[0m \u001b[0mepochs\u001b[0m \u001b[0;34m=\u001b[0m \u001b[0mrange\u001b[0m\u001b[0;34m(\u001b[0m\u001b[0mlen\u001b[0m\u001b[0;34m(\u001b[0m\u001b[0maccuracy\u001b[0m\u001b[0;34m)\u001b[0m\u001b[0;34m)\u001b[0m\u001b[0;34m\u001b[0m\u001b[0;34m\u001b[0m\u001b[0m\n",
      "\u001b[0;31mNameError\u001b[0m: name 'history' is not defined"
     ]
    }
   ],
   "source": [
    "acc = history.history['accuracy']\n",
    "val_acc = history.history['val_accuracy']\n",
    "loss = history.history['loss']\n",
    "val_loss = history.history['val_loss']\n",
    "epochs = range(len(accuracy))\n",
    "plt.plot(epochs, accuracy, 'r', label='Training acc')\n",
    "plt.plot(epochs, val_accuracy, 'b', label='Validation acc')\n",
    "plt.title('Training and validation accuracy')\n",
    "plt.ylabel('accuracy') \n",
    "plt.xlabel('epoch')\n",
    "plt.legend()\n",
    "plt.figure()\n",
    "plt.plot(epochs, loss, 'r', label='Training loss')\n",
    "plt.plot(epochs, val_loss, 'b', label='Validation loss')\n",
    "plt.title('Training and validation loss')\n",
    "plt.ylabel('loss') \n",
    "plt.xlabel('epoch')\n",
    "plt.legend()\n",
    "plt.show()"
   ]
  },
  {
   "cell_type": "code",
   "execution_count": null,
   "metadata": {},
   "outputs": [],
   "source": []
  }
 ],
 "metadata": {
  "kernelspec": {
   "display_name": "Python 3",
   "language": "python",
   "name": "python3"
  },
  "language_info": {
   "codemirror_mode": {
    "name": "ipython",
    "version": 3
   },
   "file_extension": ".py",
   "mimetype": "text/x-python",
   "name": "python",
   "nbconvert_exporter": "python",
   "pygments_lexer": "ipython3",
   "version": "3.6.9"
  }
 },
 "nbformat": 4,
 "nbformat_minor": 4
}
